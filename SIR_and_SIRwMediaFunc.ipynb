{
 "cells": [
  {
   "cell_type": "code",
   "execution_count": null,
   "metadata": {},
   "outputs": [],
   "source": [
    "################\n",
    "#achieving Media data#"
   ]
  },
  {
   "cell_type": "code",
   "execution_count": null,
   "metadata": {},
   "outputs": [],
   "source": [
    "def media_feature(df):\n",
    "    subreddits = ['CoronavirusUS','CoronavirusUK','CoronavirusNewYork','CoronavirusCA','Talk about Coronavirus in Michigan ','CoronaVirusPA','CoronavirusIllinois']\n",
    "    pre = []\n",
    "    concerns = []\n",
    "    total = []\n",
    "    for i in subreddits:\n",
    "        pre.append(0)\n",
    "        concerns.append(0)\n",
    "        total.append(0)\n",
    "    for i,row in df.iterrows():\n",
    "        k = subreddits.index(row[\"subreddit\"])\n",
    "        if(row[\"precaution\"] == 1):\n",
    "            pre[k] += 1\n",
    "        if(row[\"concerns\"] == 1):\n",
    "            concerns[k] += 1\n",
    "        total[k] += 1\n",
    "    return pre,concerns,total"
   ]
  },
  {
   "cell_type": "code",
   "execution_count": null,
   "metadata": {},
   "outputs": [],
   "source": [
    "###############"
   ]
  },
  {
   "cell_type": "code",
   "execution_count": null,
   "metadata": {},
   "outputs": [],
   "source": [
    "#SIR#"
   ]
  },
  {
   "cell_type": "code",
   "execution_count": null,
   "metadata": {},
   "outputs": [],
   "source": []
  }
 ],
 "metadata": {
  "kernelspec": {
   "display_name": "Python 3",
   "language": "python",
   "name": "python3"
  },
  "language_info": {
   "codemirror_mode": {
    "name": "ipython",
    "version": 3
   },
   "file_extension": ".py",
   "mimetype": "text/x-python",
   "name": "python",
   "nbconvert_exporter": "python",
   "pygments_lexer": "ipython3",
   "version": "3.7.4"
  }
 },
 "nbformat": 4,
 "nbformat_minor": 2
}
