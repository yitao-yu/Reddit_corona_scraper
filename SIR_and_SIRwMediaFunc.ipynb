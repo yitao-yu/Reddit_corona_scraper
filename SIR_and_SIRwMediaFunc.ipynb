{
 "cells": [
  {
   "cell_type": "code",
   "execution_count": null,
   "metadata": {},
   "outputs": [],
   "source": [
    "################\n",
    "#achieving Media data#"
   ]
  },
  {
   "cell_type": "code",
   "execution_count": 205,
   "metadata": {},
   "outputs": [],
   "source": [
    "def media_feature(df):\n",
    "    subreddits = ['CoronavirusUS','CoronavirusUK','CoronavirusNewYork','CoronavirusCA','Talk about Coronavirus in Michigan ','CoronaVirusPA','CoronavirusIllinois']\n",
    "    pre = []\n",
    "    concerns = []\n",
    "    total = []\n",
    "    for i in subreddits:\n",
    "        pre.append(0)\n",
    "        concerns.append(0)\n",
    "        total.append(0)\n",
    "    for i,row in df.iterrows():\n",
    "        k = subreddits.index(row[\"subreddit\"])\n",
    "        if(row[\"precaution\"] == 1):\n",
    "            pre[k] += 1\n",
    "        if(row[\"concerns\"] == 1):\n",
    "            concerns[k] += 1\n",
    "        total[k] += 1\n",
    "    return pre,concerns,total"
   ]
  },
  {
   "cell_type": "code",
   "execution_count": 221,
   "metadata": {},
   "outputs": [],
   "source": [
    "files = []\n",
    "for i in range(14,29):\n",
    "    #if i < 10 do str(str(0)+str(i))#\n",
    "    if i == 21:\n",
    "        continue\n",
    "    name = \"labeled2020-04-\"+str(i)\n",
    "    files.append(name)\n",
    "files.append(\"labeled2020-04-30\")\n",
    "files.append(\"labeled2020-05-01\")\n",
    "files.append(\"labeled2020-05-02\")\n",
    "files.append(\"labeled2020-05-03\")\n",
    "\n",
    "dflist = []\n",
    "datelist = []\n",
    "for i in files:\n",
    "    df = pd.read_csv(i)\n",
    "    dflist.append(df)\n",
    "    datelist.append(i[7:17])"
   ]
  },
  {
   "cell_type": "code",
   "execution_count": 222,
   "metadata": {},
   "outputs": [],
   "source": [
    "subreddits = ['CoronavirusUS','CoronavirusUK','CoronavirusNewYork','CoronavirusCA','Talk about Coronavirus in Michigan ','CoronaVirusPA','CoronavirusIllinois']"
   ]
  },
  {
   "cell_type": "code",
   "execution_count": 223,
   "metadata": {},
   "outputs": [],
   "source": [
    "P = []\n",
    "C = []\n",
    "for i in subreddits:\n",
    "    P.append([])\n",
    "    C.append([])\n",
    "for df in dflist:\n",
    "    pre,concerns,non = media_feature(df)\n",
    "    for i in range(0,len(pre)):\n",
    "        P[i].append(float(pre[i]+1)/float(non[i]+1))\n",
    "        C[i].append(float(concerns[i]+1)/float(non[i]+1))\n",
    "#Missing data, replaced with mean#\n",
    "k1 = 6\n",
    "k2 = 13+2\n",
    "datelist.insert(k1,\"2020-4-21\")\n",
    "datelist.insert(k2,\"2020-4-29\")\n",
    "P.insert(k1,sum(P[j])/len(P[j]))\n",
    "P.insert(k2,sum(P[j])/len(P[j]))\n",
    "C.insert(k1,sum(C[j])/len(C[j]))\n",
    "C.insert(k2,sum(C[j])/len(C[j]))"
   ]
  },
  {
   "cell_type": "code",
   "execution_count": 233,
   "metadata": {},
   "outputs": [
    {
     "data": {
      "text/plain": [
       "[0.27450980392156865,\n",
       " 0.21568627450980393,\n",
       " 0.29411764705882354,\n",
       " 0.23529411764705882,\n",
       " 0.37254901960784315,\n",
       " 0.29411764705882354,\n",
       " 0.21568627450980393,\n",
       " 0.39215686274509803,\n",
       " 0.27848101265822783,\n",
       " 0.37254901960784315,\n",
       " 0.37254901960784315,\n",
       " 0.26732673267326734,\n",
       " 0.4117647058823529,\n",
       " 0.37254901960784315,\n",
       " 0.39215686274509803,\n",
       " 0.43137254901960786,\n",
       " 0.39215686274509803,\n",
       " 0.4117647058823529]"
      ]
     },
     "execution_count": 233,
     "metadata": {},
     "output_type": "execute_result"
    }
   ],
   "source": [
    "#US#\n",
    "P[0]"
   ]
  },
  {
   "cell_type": "code",
   "execution_count": null,
   "metadata": {},
   "outputs": [],
   "source": [
    "###############"
   ]
  },
  {
   "cell_type": "code",
   "execution_count": null,
   "metadata": {},
   "outputs": [],
   "source": [
    "#SIR#"
   ]
  },
  {
   "cell_type": "code",
   "execution_count": 54,
   "metadata": {},
   "outputs": [],
   "source": [
    "import numpy as np\n",
    "from scipy.integrate import odeint\n",
    "import matplotlib.pyplot as plt\n",
    "import pandas as pd"
   ]
  },
  {
   "cell_type": "code",
   "execution_count": 19,
   "metadata": {},
   "outputs": [],
   "source": [
    "def deriv(y, t, N, beta, gamma):\n",
    "    S, I, R = y\n",
    "    dSdt = -beta * S * I / N\n",
    "    dIdt = beta * S * I / N - gamma * I\n",
    "    dRdt = gamma * I\n",
    "    return dSdt, dIdt, dRdt"
   ]
  },
  {
   "cell_type": "code",
   "execution_count": 169,
   "metadata": {},
   "outputs": [],
   "source": [
    "def SIR(N,I0,R0, beta, gamma):\n",
    "    S0 = N - I0 - R0\n",
    "    t = np.linspace(0, 19, 19)\n",
    "    # Initial conditions vector\n",
    "    y0 = S0, I0, R0\n",
    "    # Integrate the SIR equations over the time grid, t.\n",
    "    ret = odeint(deriv, y0, t, args=(N, beta, gamma))\n",
    "    S, I, R = ret.T\n",
    "    return S,I,R,t"
   ]
  },
  {
   "cell_type": "code",
   "execution_count": 170,
   "metadata": {},
   "outputs": [],
   "source": [
    "def plotSIR(S,I,R,Ih,t):\n",
    "    fig = plt.figure(facecolor='w')\n",
    "    ax = fig.add_subplot(111, axisbelow=True)\n",
    "    #ax.plot(t, S/1000, 'b', alpha=0.5, lw=2, label='Susceptible')\n",
    "    ax.plot(t, I/1000, 'r', alpha=0.5, lw=2, label='Infected')\n",
    "    ax.plot(t, Ih/1000, 'b', label='Observed Infected')\n",
    "    #ax.plot(t, R/1000, 'g', alpha=0.5, lw=2, label='Recovered with immunity')\n",
    "    ax.set_xlabel('Time /days')\n",
    "    ax.set_ylabel('Number (1000s)')\n",
    "    ax.grid(b=True, which='major', c='w', lw=2, ls='-')\n",
    "    legend = ax.legend()\n",
    "    legend.get_frame().set_alpha(0.5)\n",
    "    plt.show()\n",
    "    return plt"
   ]
  },
  {
   "cell_type": "code",
   "execution_count": 171,
   "metadata": {},
   "outputs": [],
   "source": [
    "file = './Medical_Data/time_series_covid19_confirmed_global.csv'\n",
    "observed_df = pd.read_csv(file)\n",
    "Ih = []\n",
    "for i,row in observed_df.iterrows():\n",
    "    if (row['Country/Region'] == 'US'):\n",
    "        for j in range(13,30):\n",
    "            name = '4/'+str(j)+'/20'\n",
    "            Ih.append(observed_df[name][i])\n",
    "        for j in range(1,3):\n",
    "            name = '5/'+str(j)+'/20'\n",
    "            Ih.append(observed_df[name][i])"
   ]
  },
  {
   "cell_type": "code",
   "execution_count": 172,
   "metadata": {},
   "outputs": [],
   "source": [
    "tc = t.copy()\n",
    "for i in range(0,len(tc)):\n",
    "    if i > 18:\n",
    "        tc[i] = 0\n",
    "        continue\n",
    "    tc[i] = Ih[i]\n",
    "Ih_t = tc"
   ]
  },
  {
   "cell_type": "code",
   "execution_count": 173,
   "metadata": {},
   "outputs": [],
   "source": [
    "file = './Medical_Data/time_series_covid19_confirmed_global.csv'\n",
    "observed_df = pd.read_csv(file)\n",
    "for i,row in observed_df.iterrows():\n",
    "    if (row['Country/Region'] == 'US'):\n",
    "            name = '4/13/20'\n",
    "            I0 = observed_df[name][i]"
   ]
  },
  {
   "cell_type": "code",
   "execution_count": 196,
   "metadata": {},
   "outputs": [],
   "source": [
    "S,I,R,t = SIR(328200000,580619,43482,0.24,0.2)"
   ]
  },
  {
   "cell_type": "code",
   "execution_count": null,
   "metadata": {},
   "outputs": [],
   "source": [
    "#use the SIR model to predict#\n",
    "#graph the actual observed medical data#\n",
    "#try to make the SIR model fit the medical data#"
   ]
  },
  {
   "cell_type": "code",
   "execution_count": 197,
   "metadata": {
    "scrolled": false
   },
   "outputs": [
    {
     "data": {
      "image/png": "[encoded data removed]",
      "text/plain": [
       "<Figure size 432x288 with 1 Axes>"
      ]
     },
     "metadata": {},
     "output_type": "display_data"
    },
    {
     "data": {
      "text/plain": [
       "<module 'matplotlib.pyplot' from 'D:\\\\Anaconda3\\\\lib\\\\site-packages\\\\matplotlib\\\\pyplot.py'>"
      ]
     },
     "execution_count": 197,
     "metadata": {},
     "output_type": "execute_result"
    }
   ],
   "source": [
    "plotSIR(S,I,R,Ih_t,t)"
   ]
  },
  {
   "cell_type": "code",
   "execution_count": null,
   "metadata": {},
   "outputs": [],
   "source": [
    "#SIR with media function#"
   ]
  },
  {
   "cell_type": "code",
   "execution_count": 231,
   "metadata": {},
   "outputs": [],
   "source": [
    "def media_func(I,dIdt,a,b):\n",
    "    import math\n",
    "    power = a*I+b*dIdt\n",
    "    if (power>0):\n",
    "        return math.exp(-power)\n",
    "    else:\n",
    "        return 1"
   ]
  },
  {
   "cell_type": "code",
   "execution_count": 278,
   "metadata": {},
   "outputs": [],
   "source": [
    "def deriv_m(y, t, N, beta, gamma,a,b):\n",
    "    S, I, R = y\n",
    "    \n",
    "    dIdt = media_func(I,-12000,a,b) * beta * S * I / N - gamma * I\n",
    "    dSdt = -beta * S * I * (-media_func(I,dIdt,a,b)) / N\n",
    "    dRdt = gamma * I\n",
    "    print(dIdt)\n",
    "    return dSdt, dIdt, dRdt"
   ]
  },
  {
   "cell_type": "code",
   "execution_count": 279,
   "metadata": {},
   "outputs": [],
   "source": [
    "def SIR_m(N,I0,R0, beta, gamma,a,b):\n",
    "    S0 = N - I0 - R0\n",
    "    t = np.linspace(0, 19, 19)\n",
    "    # Initial conditions vector\n",
    "    y0 = S0, I0, R0\n",
    "    # Integrate the SIR equations over the time grid, t.\n",
    "    ret = odeint(deriv_m, y0, t, args=(N, beta, gamma,a,b))\n",
    "    S, I, R = ret.T\n",
    "    return S,I,R,t"
   ]
  },
  {
   "cell_type": "code",
   "execution_count": 280,
   "metadata": {},
   "outputs": [
    {
     "name": "stdout",
     "output_type": "stream",
     "text": [
      "-115737.96789974449\n",
      "-115736.95093618242\n",
      "-115736.95094511827\n",
      "-115735.93398950637\n",
      "-115735.93399844215\n",
      "-115537.00929615766\n",
      "-115537.00916522482\n",
      "-115338.3885775269\n",
      "-115338.38831576082\n",
      "-115140.07103028806\n",
      "-115140.07076905787\n",
      "-114036.0909163762\n",
      "-114036.08761878558\n",
      "-114414.24645694601\n",
      "-114414.24501278438\n",
      "-114994.58009445474\n",
      "-114994.58003591422\n",
      "-114849.2522680034\n",
      "-114849.25232689416\n",
      "-114704.08738468896\n",
      "-114704.08738482455\n",
      "-114559.08494102079\n",
      "-114559.0849411624\n",
      "-114269.56647508306\n",
      "-114269.5664757625\n",
      "-113980.6947876305\n",
      "-113980.69478728641\n",
      "-113692.46773759945\n",
      "-113692.46773725442\n",
      "-113404.88319192152\n",
      "-113404.883191917\n",
      "-113117.93902245307\n",
      "-113117.93902244838\n",
      "-110283.25324288315\n",
      "-110283.25322930259\n",
      "-107510.30120696263\n",
      "-107510.30116592802\n",
      "-104797.04114150676\n",
      "-104797.04114528706\n",
      "-102141.4898743882\n",
      "-102141.48984314212\n",
      "-99541.7270268803\n",
      "-99541.72698427782\n",
      "-96995.90020605283\n",
      "-96995.90016201367\n",
      "-90582.60217602746\n",
      "-90582.60077733379\n",
      "-84496.83758851547\n",
      "-84496.83299136788\n",
      "-78713.54871060517\n",
      "-78713.55353598068\n",
      "-73212.21699498882\n",
      "-73212.22358640692\n",
      "-67976.94699999347\n",
      "-67976.95291925695\n",
      "-62996.34662518151\n",
      "-62996.35418782681\n",
      "-58263.08358997481\n",
      "-58263.091776467256\n",
      "-53773.143272657864\n",
      "-53773.150973876196\n",
      "-49524.891976067345\n",
      "-49524.89789068761\n",
      "-45518.03147964319\n",
      "-45518.03451770292\n",
      "-41265.299998259\n",
      "-41265.299310556904\n",
      "-37322.11682831352\n",
      "-37322.10922127651\n",
      "-33685.189668202715\n",
      "-33685.17434844139\n",
      "-30348.188122825653\n",
      "-30348.169111074123\n",
      "-27301.519004747257\n",
      "-27301.49984529148\n",
      "-24532.528552716893\n",
      "-24532.530749206315\n",
      "-24921.48898519238\n",
      "-24921.49183338375\n",
      "-26809.594090906467\n",
      "-26809.59396614592\n",
      "-26325.712466257814\n",
      "-26325.712752219537\n",
      "-25849.783993776153\n",
      "-25849.784511494916\n",
      "-25381.73820039961\n",
      "-25381.73611258356\n",
      "-24921.488253157673\n",
      "-24921.490101944975\n",
      "-24468.967808109956\n",
      "-24468.967565177336\n",
      "-23876.352439574985\n",
      "-23876.351917616812\n",
      "-23297.179684851246\n",
      "-23297.179280825767\n",
      "-22731.248438372466\n",
      "-22731.248475633227\n",
      "-22178.354288195755\n",
      "-22178.354277262446\n",
      "-21638.287846320745\n",
      "-21638.28784265487\n",
      "-21110.83715671811\n",
      "-21110.837152915105\n",
      "-19162.016178253405\n",
      "-19162.015536960727\n",
      "-17390.300923402396\n",
      "-17390.29793352184\n",
      "-15782.351337306107\n",
      "-15782.353861091531\n",
      "-14324.990279356098\n",
      "-14324.994289770359\n",
      "-13005.421256155096\n",
      "-13005.423407497627\n",
      "-11811.42132003577\n",
      "-11811.423493065638\n",
      "-10731.479537406449\n",
      "-10731.481426055754\n",
      "-9559.227521488265\n",
      "-9559.230549821667\n",
      "-8521.516313065218\n",
      "-8521.518360160619\n",
      "-7602.578241391297\n",
      "-7602.57321551763\n",
      "-6788.331490677312\n",
      "-6788.327910571847\n",
      "-6066.312970253308\n",
      "-6066.311371320695\n",
      "-5425.519801464012\n",
      "-5425.518982931451\n",
      "-4856.27213996237\n",
      "-4856.271773001612\n",
      "-4350.075992284059\n",
      "-4350.075594233935\n",
      "-3665.3916284031548\n",
      "-3665.390397298863\n",
      "-3093.554809190213\n",
      "-3093.548618570865\n",
      "-2614.801477531735\n",
      "-2614.79210434535\n",
      "-2213.0600995222703\n",
      "-2213.050171690473\n",
      "-1875.229301114632\n",
      "-1875.2199962883205\n",
      "-1590.5939870691254\n",
      "-1590.5860296495885\n",
      "-1350.361742031837\n",
      "-1350.355155729565\n",
      "-1147.2915445096332\n",
      "-1147.2862019383574\n",
      "-975.3991038028471\n",
      "-975.3948527801585\n",
      "-829.7218628106166\n",
      "-829.7184965731576\n",
      "-706.1310465705064\n",
      "-706.128397089924\n"
     ]
    }
   ],
   "source": [
    "S,I,R,t = SIR_m(328200000,580619,43482,0.24,0.2,0.000012,0.00009)"
   ]
  },
  {
   "cell_type": "code",
   "execution_count": 281,
   "metadata": {},
   "outputs": [
    {
     "data": {
      "image/png": "[encoded data removed]",
      "text/plain": [
       "<Figure size 432x288 with 1 Axes>"
      ]
     },
     "metadata": {},
     "output_type": "display_data"
    },
    {
     "data": {
      "text/plain": [
       "<module 'matplotlib.pyplot' from 'D:\\\\Anaconda3\\\\lib\\\\site-packages\\\\matplotlib\\\\pyplot.py'>"
      ]
     },
     "execution_count": 281,
     "metadata": {},
     "output_type": "execute_result"
    }
   ],
   "source": [
    "plotSIR(S,I,R,Ih_t,t)"
   ]
  },
  {
   "cell_type": "code",
   "execution_count": null,
   "metadata": {},
   "outputs": [],
   "source": []
  }
 ],
 "metadata": {
  "kernelspec": {
   "display_name": "Python 3",
   "language": "python",
   "name": "python3"
  },
  "language_info": {
   "codemirror_mode": {
    "name": "ipython",
    "version": 3
   },
   "file_extension": ".py",
   "mimetype": "text/x-python",
   "name": "python",
   "nbconvert_exporter": "python",
   "pygments_lexer": "ipython3",
   "version": "3.7.4"
  }
 },
 "nbformat": 4,
 "nbformat_minor": 2
}
