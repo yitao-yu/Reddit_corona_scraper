{
 "cells": [
  {
   "cell_type": "code",
   "execution_count": 1,
   "metadata": {
    "scrolled": true
   },
   "outputs": [],
   "source": [
    "import time\n",
    "import praw\n",
    "from datetime import datetime\n",
    "import threading"
   ]
  },
  {
   "cell_type": "code",
   "execution_count": 2,
   "metadata": {},
   "outputs": [],
   "source": [
    "reddit = praw.Reddit(client_id='P26uUpjfnflDVg', client_secret=\"L9oHqikaIVKSm-aXv-a7E-x8Yi8\",\n",
    "                     password='password', user_agent='script by /u/CandlesTaken',\n",
    "                     username='username')"
   ]
  },
  {
   "cell_type": "code",
   "execution_count": 3,
   "metadata": {},
   "outputs": [],
   "source": [
    "class Post:\n",
    "    commentforrest = reddit.submission('3hahrw').comments\n",
    "    comment = []\n",
    "    upvote_count = 0\n",
    "    def __init__(self, subreddit, title, created_time,Pid):\n",
    "        self.subreddit = subreddit\n",
    "        self.title = title\n",
    "        self.created_time = created_time\n",
    "        self.Pid = Pid"
   ]
  },
  {
   "cell_type": "code",
   "execution_count": 4,
   "metadata": {},
   "outputs": [],
   "source": [
    "class Comment:\n",
    "    def __init__(self, body,Cid):\n",
    "        self.Cid = Cid\n",
    "        self.body = body"
   ]
  },
  {
   "cell_type": "code",
   "execution_count": 12,
   "metadata": {},
   "outputs": [],
   "source": [
    "def submissionstream(subreddits,submissions):#stream#\n",
    "    string = str(\"\")\n",
    "    for i in range(0,len(subreddits)):\n",
    "        if (i != 0):\n",
    "            string += \"+\"+str(subreddits[i].title)\n",
    "        else:\n",
    "            string += str(subreddits[i].title)\n",
    "    for submission in reddit.subreddit(string).stream.submissions():\n",
    "        print(str(submission.subreddit.title) + \"; \" + submission.title+\"; \"+str(datetime.utcfromtimestamp(submission.created_utc))+\";\"+str(submission.score))\n",
    "        dt = datetime.utcfromtimestamp(submission.created_utc)\n",
    "        post = Post(submission.subreddit.title, submission.title, dt, submission.id)\n",
    "        submissions.append(post)\n",
    "    return submissions"
   ]
  },
  {
   "cell_type": "code",
   "execution_count": 13,
   "metadata": {},
   "outputs": [],
   "source": [
    "def submissionsupdate(subreddits,submissions):#called at the end of the day#\n",
    "    for submission in submissions:\n",
    "        post = reddit.submission(id=submission.Pid)\n",
    "        submission.upvote_count = post.score\n",
    "        submission.commentforrest = post.comments\n",
    "        for comment in submission.commentforrest:\n",
    "            submission.comment.append(Comment(comment.body, comment.id))\n",
    "        print(\"update_done!\")\n",
    "    return comments"
   ]
  },
  {
   "cell_type": "code",
   "execution_count": 14,
   "metadata": {},
   "outputs": [],
   "source": [
    "def hot(subreddits,hots):\n",
    "    print(\"doing hots!\")\n",
    "    for sub in subreddits:\n",
    "        hotposts = sub.hot(limit = 50)\n",
    "        for submission in hotposts:\n",
    "            print(str(submission.subreddit.title) + \"; \" + submission.title+\"; \"+str(datetime.utcfromtimestamp(submission.created_utc))+\";\"+str(submission.score))\n",
    "            dt = datetime.utcfromtimestamp(submission.created_utc)\n",
    "            post = Post(submission.subreddit.title, submission.title, dt, submission.id)\n",
    "            post.upvote_count = submission.score\n",
    "            hots.append(post)\n",
    "    return hots, datetime.utcnow()"
   ]
  },
  {
   "cell_type": "code",
   "execution_count": 15,
   "metadata": {},
   "outputs": [],
   "source": [
    "subreddits = [reddit.subreddit('CoronavirusUS'),reddit.subreddit('CoronavirusUK'),reddit.subreddit('CoronavirusNewYork'),reddit.subreddit('CoronavirusCA'),reddit.subreddit('CoronavirusMichigan')]"
   ]
  },
  {
   "cell_type": "code",
   "execution_count": 16,
   "metadata": {},
   "outputs": [],
   "source": [
    "submissions = []\n",
    "hots = []"
   ]
  },
  {
   "cell_type": "code",
   "execution_count": null,
   "metadata": {},
   "outputs": [
    {
     "name": "stdout",
     "output_type": "stream",
     "text": [
      "CoronavirusUS; I filed with turbo tax. Where's my stimmulus going?; 2020-04-11 13:31:11;2\n",
      "CoronavirusUS; Washington state begins to ask: how does the coronavirus crisis end?; 2020-04-11 13:32:12;3\n",
      "CoronavirusUS; Experts say there cannot be a reopening of the U.S. economy without mass testing; 2020-04-11 13:35:19;31\n",
      "CoronavirusUK; Outcomes of 3883 UK Patients critically ill with confirmed COVID-19 by Age (Source Data ICNARC); 2020-04-11 13:41:06;18\n",
      "CoronavirusUK; They’ve finally updated the recovery number after nearly a month; 2020-04-11 13:42:05;7\n",
      "CoronavirusUS; NOT REAL NEWS: A week of false news around the coronavirus pandemic; 2020-04-11 13:48:46;5\n",
      "CoronavirusUK; 10th April - UK's daily death toll compared with Italy's, Spain's, France's and Germany's; 2020-04-11 13:47:52;358\n",
      "CoronavirusCA; 50+ Artists offering their talents to provide FREE memorial portraits to families that have lost someone to covid19; 2020-04-11 14:02:26;28\n",
      "CoronavirusUK; Could my housemates return(from UK); 2020-04-11 14:04:16;1\n",
      "CoronavirusUS; God Bless Texas...They Tried, Epic Fail; 2020-04-11 14:04:43;4\n",
      "CoronavirusUS; My grandfather has tested positive.; 2020-04-11 14:06:50;19\n",
      "CoronavirusUK; Has something happened to the air pressure recently due to the coronavirus?.; 2020-04-11 14:14:09;0\n",
      "CoronavirusNewYork; New legislation aims to cancel student debt for healthcare workers on the front line of COVID-19 - amNewYork; 2020-04-11 14:25:41;101\n",
      "CoronavirusUK; UK Covid-19 death tolls rise by 917 in 24 hours - including an 11-year-old; 2020-04-11 14:32:43;4\n",
      "CoronavirusNewYork; NYC Schools Closed for Rest of Academic Year; 2020-04-11 14:36:31;8\n",
      "CoronavirusCA; IRS - Economic Impact Payment; 2020-04-11 14:40:08;12\n",
      "CoronavirusNewYork; Why some doctors are moving away from ventilators for virus patients; 2020-04-11 14:41:35;3\n",
      "CoronavirusUS; Essential Workers; 2020-04-11 14:42:21;12\n",
      "CoronavirusUK; Self employed people - has anyone received the HMRC invite for 80% income yet?; 2020-04-11 14:44:21;5\n",
      "CoronavirusUS; The USA is now the World leader in COVID-19 deaths.; 2020-04-11 14:45:56;24\n",
      "CoronavirusUS; My Hero; 2020-04-11 14:46:36;29\n",
      "CoronavirusNewYork; New York City Mayor Bill de Blasio announces public schools will remain closed for the rest of the school year, calling it a public health decision: \"It's the right thing to do. It clearly will help us save lives.\"; 2020-04-11 14:50:18;25\n",
      "CoronavirusUS; Couldn't resist...; 2020-04-11 14:52:51;0\n",
      "CoronavirusUS; Michigan now has more coronavirus deaths than Illinois, Ohio, and Wisconsin combined; 2020-04-11 14:53:40;24\n",
      "CoronavirusUK; Lock down strategy comparison of countries; 2020-04-11 15:09:19;0\n",
      "CoronavirusUS; Kansas Republicans Undo Governor’s Coronavirus Order Prohibiting Large Religious Gatherings Kansas will allow church services to be held on Easter Sunday after the Legislature overturned the governor’s prohibition on large religious gatherings.; 2020-04-11 15:16:07;8\n",
      "CoronavirusUS; When all of this is over, how will you people celebrate?; 2020-04-11 15:19:17;10\n",
      "CoronavirusUS; Interesting article from a N.Y. Paramedic; 2020-04-11 15:23:06;6\n",
      "CoronavirusUS; social distancing is somewhat useless unless people start wearing masks... disturbing video by researchers in Finland shows why; 2020-04-11 15:26:30;2\n",
      "CoronavirusUK; 'Crazy' town relieves lockdown with mass mooing; 2020-04-11 15:26:38;9\n",
      "CoronavirusUS; Watch Now : Trump: \"We have to get our country open.\" Question: \"Will you say, sir, what metrics you will use to make that decision?\" Trump: \"The metric's right here.\" [Points to head]; 2020-04-11 15:29:42;40\n",
      "CoronavirusUS; Walmart CEO says we're in the 'hair color' phase of panic buying; 2020-04-11 15:31:54;35\n",
      "CoronavirusNewYork; Has anyone received any calls yet?; 2020-04-11 15:33:34;4\n",
      "CoronavirusNewYork; Coronavirus in New York: Latest Updates; 2020-04-11 15:38:03;4\n",
      "CoronavirusUK; Force removal of Early Termination Clauses?; 2020-04-11 15:40:40;0\n",
      "CoronavirusUS; A plan to defeat coronavirus finally emerges, but it’s not from the White House; 2020-04-11 15:43:39;1\n",
      "CoronavirusUS; Help Relaying the Message; 2020-04-11 15:46:03;0\n",
      "CoronavirusUS; When does this end? Open up colleges?; 2020-04-11 15:48:25;0\n",
      "CoronavirusUK; Facing a huge moral dilemma and need help; 2020-04-11 15:48:56;11\n",
      "CoronavirusUS; Indiana government count of COVID-19 deaths versus John Hopkins dataset; 2020-04-11 15:57:46;5\n",
      "CoronavirusUS; Belgian study on safe distancing while exercising; 2020-04-11 16:01:27;2\n",
      "CoronavirusUS; How can the Coronavirus pandemic end?; 2020-04-11 16:06:08;1\n",
      "CoronavirusNewYork; [OC] 11 April 2020 | Top Countries according to deaths per million people; 2020-04-11 16:06:34;2\n",
      "CoronavirusUS; South Korea says recovereed patients re-testing positive; 2020-04-11 16:07:54;15\n",
      "CoronavirusUS; Stimulus package; 2020-04-11 16:10:38;200\n",
      "CoronavirusNewYork; Coronavirus: NYC public schools will remain closed for rest of year; 2020-04-11 16:12:35;5\n",
      "CoronavirusCA; Marin County is reporting 6% mortality rate on 153 positive cases. They’ve only tested 2047 people 258,826 of the counties residents. Additionally the county announced on March 23rd their Public Health Officer, Matt Willis, tested positive for community acquired COVID.; 2020-04-11 16:15:49;76\n",
      "CoronavirusUK; Coronavirus mutated into three distinct strains as it spread across the world | Metro News; 2020-04-11 16:19:35;2\n",
      "CoronavirusUS; Marin seniors’ center reports coronavirus outbreak: 1 dead, 6 others infected 100 residents housed at facility.; 2020-04-11 16:24:18;7\n",
      "CoronavirusUS; How long does the corona virus stay on fabric? Like couches.; 2020-04-11 16:29:57;6\n",
      "CoronavirusNewYork; Cuomo update summary 4/11; 2020-04-11 16:31:35;7\n",
      "CoronavirusUS; This here is why it is going to continue to get worse for the US. I'm all for religious freedom and expression but thousands of people could and likely will get sick because of this.; 2020-04-11 16:34:04;13\n",
      "CoronavirusNewYork; Coronavirus Lockdown Is A Globalists' Dream, 1,719,000 COVID-19 Cases; 2020-04-11 16:36:43;0\n",
      "CoronavirusUS; No fever a good sign for Covid-19?; 2020-04-11 16:38:20;6\n",
      "CoronavirusUK; Does anyone know anything about year 10??; 2020-04-11 16:38:34;1\n",
      "CoronavirusUK; Stats 11/04; 2020-04-11 16:42:10;13\n",
      "CoronavirusCA; A new East Sacramento doughnut shop opened amid the coronavirus pandemic. And sold out twice; 2020-04-11 16:51:14;17\n",
      "CoronavirusNewYork; \"How You Save A Life\" - YouTube; 2020-04-11 16:57:16;1\n",
      "CoronavirusCA; SIP shutters guide dog trainers for the blind and disabled, including in Santa Rosa; 2020-04-11 16:57:56;2\n",
      "CoronavirusUS; How might the Coronavirus affect buying foreign vehicles?; 2020-04-11 17:01:00;0\n",
      "CoronavirusUK; Every benefit of a homemade mask explained. Still hoping to see these encouraged in the UK soon; 2020-04-11 17:04:01;6\n",
      "CoronavirusUS; hey guys; 2020-04-11 17:11:10;1\n",
      "CoronavirusUS; Dwayne \"The Rock\" Johnson Live On Instagram with Gavin Newsom — (10/04/2020); 2020-04-11 17:45:29;0\n",
      "CoronavirusUS; CDC: Hospitalization Rates and Characterizations of Patients Hospitalized; 2020-04-11 17:46:43;2\n",
      "CoronavirusUK; UK hunger crisis: 1.5m people go whole day without food; 2020-04-11 17:48:13;4\n",
      "CoronavirusNewYork; Updated per capita Chart of NY State Counties' Confirmed Cases; 2020-04-11 17:49:26;2\n",
      "CoronavirusUS; Prepare for the Ultimate Gaslighting; 2020-04-11 17:50:25;20\n",
      "CoronavirusUS; Is the High Blood Pressure risk factor mitigated by treatment?; 2020-04-11 17:52:46;2\n",
      "CoronavirusCA; Evidence Mounting Showing COVID-19 Was Prevalent In Some California Communities As Early As January; 2020-04-11 17:55:20;19\n",
      "CoronavirusUK; Simple message; 2020-04-11 17:55:37;31\n",
      "CoronavirusUK; Covid-19 patients are being transferred to care homes with healthy residents.; 2020-04-11 17:57:46;22\n",
      "CoronavirusUS; Ya hate to see it, this is project mockingbird.; 2020-04-11 17:58:49;2\n",
      "CoronavirusUS; Stimulus check assistance. No longer have access to the bank I used for my last two tax returns.; 2020-04-11 18:04:33;2\n",
      "CoronavirusUS; Fire chief: Milford PPEs taken by feds amid coronavirus crisis; 2020-04-11 18:07:40;9\n",
      "CoronavirusUS; Why wear a mask? Every Benefit of a cloth mask summarised. (Homemade & CDC pattern); 2020-04-11 18:09:05;8\n",
      "CoronavirusUS; Stupid-looking but effective face mask my friends and I made we are donating to health care workers; 2020-04-11 18:12:58;4\n",
      "CoronavirusNewYork; The New York Times Just Published Documents Showing Trump’s COVID-19 Response Was Worse Than We Knew; 2020-04-11 18:15:36;6\n",
      "CoronavirusUS; FDA To Alex Jones: Stop Selling Fake Coronavirus Cures; 2020-04-11 18:16:14;5\n",
      "CoronavirusUK; Location Map of Countries Without Confirmed Covid-19 Cases; 2020-04-11 18:18:44;1\n",
      "CoronavirusNewYork; New York doctor gambles on clot-busting drug to save coronavirus patients; 2020-04-11 18:25:22;2\n",
      "CoronavirusUK; Deaths per million comparison including USA (5 day rolling mean); 2020-04-11 18:26:02;0\n",
      "CoronavirusUS; Close family member just received official results. What the hell does this even mean? Quest did the test.; 2020-04-11 18:29:29;4\n",
      "CoronavirusUK; Use of masks/ respirators on trains; 2020-04-11 18:40:01;3\n",
      "CoronavirusCA; Coronavirus: San Bernardino and Riverside counties pivot to allow drive-up religious services through Easter - News - vvdailypress.com; 2020-04-11 18:42:39;3\n",
      "CoronavirusUS; How can I safely ship out any masks I sew?; 2020-04-11 18:54:01;1\n",
      "CoronavirusUK; China clamping down on coronavirus research; 2020-04-11 18:55:12;4\n",
      "CoronavirusCA; Driving from California to Washington for work concerns; 2020-04-11 18:56:20;2\n",
      "CoronavirusUS; Today I actually met a guy who believes this is all a hoax.; 2020-04-11 18:58:18;3\n",
      "CoronavirusNewYork; South Korea says recovered COVID-19 patients re-testing positive; 2020-04-11 18:58:41;1\n",
      "CoronavirusUS; USA #1 in cases and deaths.; 2020-04-11 18:58:48;4\n",
      "CoronavirusCA; Dwayne \"The Rock\" Johnson Live On Instagram with Gavin Newsom — (10/04/2020); 2020-04-11 19:03:15;1\n",
      "CoronavirusUS; Stimulus checks, tax question; 2020-04-11 19:16:52;1\n",
      "CoronavirusCA; Here’s How Apple and Google Plan to Track the Coronavirus Through Your Phone; 2020-04-11 19:21:16;0\n",
      "CoronavirusNewYork; Here’s How Apple and Google Plan to Track the Coronavirus Through Your Phone; 2020-04-11 19:22:11;1\n",
      "CoronavirusUS; Navajo Nation low on water, approaching top 3 hot spots in US; 2020-04-11 19:23:57;1\n",
      "CoronavirusUK; FFS even a documentary is getting slammed by the press. Fair play to Ross, must be a huge risk; 2020-04-11 19:25:59;1\n",
      "CoronavirusUK; UK Coronavirus Death Toll comparing with other countries (Updated); 2020-04-11 19:30:22;1\n",
      "CoronavirusNewYork; Gov. Cuomo: There’s a Spread of the Coronavirus in the Suburban Communities Around New York City; 2020-04-11 19:30:34;1\n",
      "CoronavirusNewYork; How fast does Coronavirus spread? ( Confirmed cases comparison ); 2020-04-11 19:38:10;1\n",
      "CoronavirusUK; Chart of UK hospital deaths to 10th April, log scaling; 2020-04-11 19:38:22;2\n"
     ]
    }
   ],
   "source": [
    "submissionstream(subreddits,submissions)"
   ]
  },
  {
   "cell_type": "code",
   "execution_count": null,
   "metadata": {},
   "outputs": [],
   "source": [
    "submissionsupdate(subreddits,submissions)"
   ]
  },
  {
   "cell_type": "code",
   "execution_count": null,
   "metadata": {},
   "outputs": [],
   "source": [
    "hot(subreddits,hots)"
   ]
  },
  {
   "cell_type": "code",
   "execution_count": 19,
   "metadata": {},
   "outputs": [
    {
     "ename": "SyntaxError",
     "evalue": "unexpected EOF while parsing (<ipython-input-19-8f8db74e8dbe>, line 1)",
     "output_type": "error",
     "traceback": [
      "\u001b[1;36m  File \u001b[1;32m\"<ipython-input-19-8f8db74e8dbe>\"\u001b[1;36m, line \u001b[1;32m1\u001b[0m\n\u001b[1;33m    def csvhelper():\u001b[0m\n\u001b[1;37m                    ^\u001b[0m\n\u001b[1;31mSyntaxError\u001b[0m\u001b[1;31m:\u001b[0m unexpected EOF while parsing\n"
     ]
    }
   ],
   "source": [
    "def csvwriter(submissions,hots):\n",
    "    pass\n",
    "\n",
    "def csvhelper(file):\n",
    "    pass"
   ]
  },
  {
   "cell_type": "code",
   "execution_count": null,
   "metadata": {},
   "outputs": [],
   "source": []
  }
 ],
 "metadata": {
  "kernelspec": {
   "display_name": "Python 3",
   "language": "python",
   "name": "python3"
  },
  "language_info": {
   "codemirror_mode": {
    "name": "ipython",
    "version": 3
   },
   "file_extension": ".py",
   "mimetype": "text/x-python",
   "name": "python",
   "nbconvert_exporter": "python",
   "pygments_lexer": "ipython3",
   "version": "3.7.4"
  }
 },
 "nbformat": 4,
 "nbformat_minor": 2
}
